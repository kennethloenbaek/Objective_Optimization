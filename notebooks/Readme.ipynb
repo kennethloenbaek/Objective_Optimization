{
 "cells": [
  {
   "cell_type": "markdown",
   "metadata": {},
   "source": [
    "# Objective Optimization\n",
    "## A scipy.optimize.minimize wrapper"
   ]
  },
  {
   "cell_type": "code",
   "execution_count": 1,
   "metadata": {},
   "outputs": [],
   "source": [
    "# Loading module and starting notebook printing\n",
    "import Objective_Optimization as OO\n",
    "OO.init_notebook()"
   ]
  },
  {
   "cell_type": "code",
   "execution_count": 18,
   "metadata": {},
   "outputs": [],
   "source": [
    "OO_obj = OO.Objective_Optimization() # Crateing OO instance"
   ]
  },
  {
   "cell_type": "code",
   "execution_count": 19,
   "metadata": {},
   "outputs": [],
   "source": [
    "# Adding variables and parameters\n",
    "# Optimization variables\n",
    "OO_obj.add_opt_var(\"x\") \n",
    "OO_obj.add_opt_var(\"y\")\n",
    "# Parameters (fixed variables for the optimizer)\n",
    "OO_obj.add_opt_var(\"a\",value=1)\n",
    "OO_obj.add_opt_var(\"b\",value=2)"
   ]
  },
  {
   "cell_type": "code",
   "execution_count": 20,
   "metadata": {},
   "outputs": [],
   "source": [
    "# Adding objective function (In this case the Rosenbrook function)\n",
    "OO_obj.add_expression_objective_function((OO_obj.a-OO_obj.x)**2+OO_obj.b*(OO_obj.y-OO_obj.x**2)**2)"
   ]
  },
  {
   "cell_type": "code",
   "execution_count": 21,
   "metadata": {},
   "outputs": [
    {
     "data": {
      "text/html": [
       "$$\\underset{ x, y, a, b }{ \\text { minimize } }\\quad b \\left(- x^{2} + y\\right)^{2} + \\left(a - x\\right)^{2}\\quad\\quad\\quad \\text{with}\\quad \\begin{gather} x \\in \\left [ -\\infty, \\quad \\infty\\right ]\\\\ y \\in \\left [ -\\infty, \\quad \\infty\\right ]\\\\ a \\in \\left [ -\\infty, \\quad \\infty\\right ]\\\\ b \\in \\left [ -\\infty, \\quad \\infty\\right ] \\end{gather}$$"
      ],
      "text/plain": [
       "<Objective_Optimization.Objective_Optimization at 0x7f329f4cbcc0>"
      ]
     },
     "execution_count": 21,
     "metadata": {},
     "output_type": "execute_result"
    }
   ],
   "source": [
    "# Printing out the OO's repesentation of the problem \n",
    "OO_obj"
   ]
  },
  {
   "cell_type": "code",
   "execution_count": 22,
   "metadata": {},
   "outputs": [
    {
     "data": {
      "text/html": [
       "$$\\underset{ x, y }{ \\text { minimize } }\\quad \\left(- x + 1\\right)^{2} + 2 \\left(- x^{2} + y\\right)^{2}\\quad\\quad\\quad \\text{with}\\quad \\begin{gather} x \\in \\left [ -\\infty, \\quad \\infty\\right ]\\\\ y \\in \\left [ -\\infty, \\quad \\infty\\right ] \\end{gather}$$"
      ],
      "text/plain": [
       "<Objective_Optimization.Objective_Optimization at 0x7f329f4cbcc0>"
      ]
     },
     "execution_count": 22,
     "metadata": {},
     "output_type": "execute_result"
    }
   ],
   "source": [
    "# Changing \"a\" and \"b\" to parameters with fixed value\n",
    "OO_obj.a.set_passive()\n",
    "OO_obj.b.set_passive()\n",
    "OO_obj"
   ]
  },
  {
   "cell_type": "code",
   "execution_count": 16,
   "metadata": {},
   "outputs": [],
   "source": [
    "# Running the optimization\n",
    "OO_obj.optimize()"
   ]
  }
 ],
 "metadata": {
  "kernelspec": {
   "display_name": "Python 3",
   "language": "python",
   "name": "python3"
  },
  "language_info": {
   "codemirror_mode": {
    "name": "ipython",
    "version": 3
   },
   "file_extension": ".py",
   "mimetype": "text/x-python",
   "name": "python",
   "nbconvert_exporter": "python",
   "pygments_lexer": "ipython3",
   "version": "3.7.2"
  }
 },
 "nbformat": 4,
 "nbformat_minor": 2
}
